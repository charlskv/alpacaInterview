{
 "cells": [
  {
   "cell_type": "code",
   "execution_count": 1,
   "metadata": {},
   "outputs": [],
   "source": [
    "import pandas as pd\n",
    "import numpy as np\n",
    "from sklearn.cluster import KMeans\n",
    "import matplotlib.pyplot as plt"
   ]
  },
  {
   "cell_type": "code",
   "execution_count": 72,
   "metadata": {},
   "outputs": [],
   "source": [
    "class kmeansSolution:\n",
    "    def __init__(self,inp):\n",
    "        self.inpList=inp\n",
    "        self.inpDF=pd.DataFrame(index=[i for i in range(0,len(inp))])\n",
    "        self.inpDF['inputPoints']=inp\n",
    "    \n",
    "    def deriveK(self):\n",
    "        distanceList=[]\n",
    "        K = range(1,10)\n",
    "        for k in K:\n",
    "            km = KMeans(n_clusters=k)\n",
    "            km = km.fit(self.inpList)\n",
    "            distanceList.append(km.inertia_)\n",
    "\n",
    "        plt.plot(K, distanceList, 'ro-')\n",
    "        plt.xlabel('k')\n",
    "        plt.ylabel('Distance')\n",
    "        plt.title('Elbow Method For Optimal k')\n",
    "        plt.show()\n",
    "        \n",
    "    def deriveKmeans(self,k):\n",
    "        km = KMeans(n_clusters=k)\n",
    "        km.fit(self.inpList)\n",
    "        centers = np.array([[round(i,2) for i in x] for x in km.cluster_centers_])\n",
    "        labels = km.labels_\n",
    "\n",
    "        label_color_map = { 0 : 'lime'\n",
    "                           ,1 : 'blue'\n",
    "                           ,2 : 'black'\n",
    "                           ,3 : 'cyan'\n",
    "                           ,4 : 'violet'\n",
    "                           ,5 : 'cyan'\n",
    "                           ,6 : 'coral'\n",
    "                           ,7 : 'pink'\n",
    "                           ,8 : 'gold'\n",
    "                           ,9 : 'skyblue'}\n",
    "        label_color = [label_color_map[l] for l in labels]\n",
    "        for i in set(labels):\n",
    "            index = labels == i\n",
    "            plt.scatter(self.inpDF['inputPoints'].apply(lambda x: x[0]), self.inpDF['inputPoints'].apply(lambda x: x[1]), c=label_color)\n",
    "            plt.scatter(centers[:, 0], centers[:, 1], c='red', s=200, alpha=0.5);\n",
    "        plt.show()\n",
    "\n",
    "        self.inpDF['clusterId']=labels\n",
    "        self.inpDF['centroid']=self.inpDF['clusterId'].apply(lambda x: centers[x])\n",
    "\n",
    "        return(self.inpDF)        "
   ]
  },
  {
   "cell_type": "code",
   "execution_count": 73,
   "metadata": {
    "scrolled": true
   },
   "outputs": [
    {
     "data": {
      "image/png": "[encoded data removed]",
      "text/plain": [
       "<Figure size 432x288 with 1 Axes>"
      ]
     },
     "metadata": {},
     "output_type": "display_data"
    }
   ],
   "source": [
    "inputList=[(1,2),(2,4),(2,1),(8,9),(6,10),(3,8),(11,5),(3,5),(4,10),(9,4),(5,5),(3,7)]\n",
    "\n",
    "sol=kmeansSolution(inputList)\n",
    "sol.deriveK()"
   ]
  },
  {
   "cell_type": "markdown",
   "metadata": {},
   "source": [
    "### Above diagram indiacates that 4 or 5 as ideal cluster size as the change is not significant after that point. Will use 5 as the cluster size for this dataset. And this has to be changed based on the above diagram for each dataset."
   ]
  },
  {
   "cell_type": "code",
   "execution_count": 74,
   "metadata": {
    "scrolled": true
   },
   "outputs": [
    {
     "data": {
      "image/png": "[encoded data removed]",
      "text/plain": [
       "<Figure size 432x288 with 1 Axes>"
      ]
     },
     "metadata": {},
     "output_type": "display_data"
    },
    {
     "name": "stdout",
     "output_type": "stream",
     "text": [
      "   inputPoints  clusterId      centroid\n",
      "0       (1, 2)          3    [1.5, 1.5]\n",
      "1       (2, 4)          1  [3.33, 4.67]\n",
      "2       (2, 1)          3    [1.5, 1.5]\n",
      "3       (8, 9)          0    [7.0, 9.5]\n",
      "4      (6, 10)          0    [7.0, 9.5]\n",
      "5       (3, 8)          4  [3.33, 8.33]\n",
      "6      (11, 5)          2   [10.0, 4.5]\n",
      "7       (3, 5)          1  [3.33, 4.67]\n",
      "8      (4, 10)          4  [3.33, 8.33]\n",
      "9       (9, 4)          2   [10.0, 4.5]\n",
      "10      (5, 5)          1  [3.33, 4.67]\n",
      "11      (3, 7)          4  [3.33, 8.33]\n"
     ]
    }
   ],
   "source": [
    "resDF=sol.deriveKmeans(5)\n",
    "print(resDF)"
   ]
  }
 ],
 "metadata": {
  "kernelspec": {
   "display_name": "Python 3",
   "language": "python",
   "name": "python3"
  },
  "language_info": {
   "codemirror_mode": {
    "name": "ipython",
    "version": 3
   },
   "file_extension": ".py",
   "mimetype": "text/x-python",
   "name": "python",
   "nbconvert_exporter": "python",
   "pygments_lexer": "ipython3",
   "version": "3.6.5"
  }
 },
 "nbformat": 4,
 "nbformat_minor": 2
}
